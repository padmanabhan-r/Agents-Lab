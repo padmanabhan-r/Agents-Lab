{
 "cells": [
  {
   "cell_type": "code",
   "execution_count": null,
   "metadata": {},
   "outputs": [],
   "source": [
    "# Warning control\n",
    "import warnings\n",
    "warnings.filterwarnings('ignore')\n",
    "from dotenv import load_dotenv,find_dotenv\n",
    "\n",
    "load_dotenv(find_dotenv())\n",
    "import os   "
   ]
  },
  {
   "cell_type": "code",
   "execution_count": null,
   "metadata": {},
   "outputs": [],
   "source": [
    "from phoenix.otel import register\n",
    "\n",
    "# configure the Phoenix tracer\n",
    "tracer_provider = register(\n",
    "  project_name=\"my-crewai-app\", # Default is 'default'\n",
    "  auto_instrument=True # Auto-instrument your app based on installed OI dependencies\n",
    ")"
   ]
  },
  {
   "cell_type": "code",
   "execution_count": null,
   "metadata": {},
   "outputs": [],
   "source": [
    "\n",
    "os.environ[\"OPENAI_API_KEY\"] = os.environ[\"GROQ_API_KEY\"] \n",
    "os.environ[\"OPENAI_API_BASE\"] = os.environ[\"GROQ_API_BASE\"] \n",
    "os.environ[\"OPENAI_MODEL_NAME\"] = 'meta-llama/llama-4-scout-17b-16e-instruct'"
   ]
  },
  {
   "cell_type": "markdown",
   "metadata": {},
   "source": [
    "- Import from the crewAI libray."
   ]
  },
  {
   "cell_type": "code",
   "execution_count": null,
   "metadata": {
    "height": 30
   },
   "outputs": [],
   "source": [
    "from crewai import Agent, Task, Crew"
   ]
  },
  {
   "cell_type": "code",
   "execution_count": null,
   "metadata": {},
   "outputs": [],
   "source": [
    "product_manager = Agent(\n",
    "    role=\"Product Manager\",\n",
    "    goal=\"Define a clear and user-focused product feature based on the requirement: {feature_request}\",\n",
    "    backstory=\"You're working on planning a new software feature: {feature_request}. \"\n",
    "              \"You gather relevant requirements, define the problem the feature solves, \"\n",
    "              \"identify user needs, and outline the core functionality. \"\n",
    "              \"Your plan will be handed off to a Software Developer who will implement the feature.\",\n",
    "    allow_delegation=False,\n",
    "    verbose=True\n",
    ")\n",
    "\n",
    "software_developer = Agent(\n",
    "    role=\"Software Developer\",\n",
    "    goal=\"Implement the planned feature: {feature_request} based on the Product Manager’s outline\",\n",
    "    backstory=\"You're responsible for developing a software feature: {feature_request}. \"\n",
    "              \"Your work is based on the Product Manager’s outline, including specifications, goals, and constraints. \"\n",
    "              \"You are expected to write clean, maintainable, and efficient code that fulfills the stated requirements. \"\n",
    "              \"You may include documentation and necessary tests.\",\n",
    "    allow_delegation=False,\n",
    "    verbose=True\n",
    ")\n",
    "\n",
    "qa_engineer = Agent(\n",
    "    role=\"QA Engineer\",\n",
    "    goal=\"Test and review the implementation of the feature: {feature_request} for quality and correctness\",\n",
    "    backstory=\"You are a QA Engineer responsible for validating the feature: {feature_request}, \"\n",
    "              \"developed by the Software Developer. \"\n",
    "              \"You verify that it meets all requirements defined by the Product Manager, \"\n",
    "              \"functions correctly under various conditions, and does not introduce regressions. \"\n",
    "              \"You ensure the software meets quality standards before release.\",\n",
    "    allow_delegation=False,\n",
    "    verbose=True\n",
    ")\n"
   ]
  },
  {
   "cell_type": "markdown",
   "metadata": {},
   "source": [
    "## Creating Tasks\n",
    "\n",
    "- Define your Tasks, and provide them a `description`, `expected_output` and `agent`."
   ]
  },
  {
   "cell_type": "code",
   "execution_count": null,
   "metadata": {},
   "outputs": [],
   "source": [
    "define_feature = Task(\n",
    "    description=(\n",
    "        \"1. Analyze the feature request: {feature_request} to determine its purpose and user value.\\n\"\n",
    "        \"2. Identify the target users, their goals, and the pain points this feature will address.\\n\"\n",
    "        \"3. Outline the core functionality, success criteria, and any constraints or edge cases.\\n\"\n",
    "        \"4. Provide user stories, acceptance criteria, and technical notes where appropriate.\"\n",
    "    ),\n",
    "    expected_output=\"A detailed feature specification document including user analysis, \"\n",
    "                    \"functional requirements, user stories, and acceptance criteria.\",\n",
    "    agent=product_manager,\n",
    ")\n",
    "\n",
    "implement_feature = Task(\n",
    "    description=(\n",
    "        \"1. Use the feature specification to implement the feature: {feature_request}.\\n\"\n",
    "        \"2. Write clean, well-documented, and maintainable code that adheres to best practices.\\n\"\n",
    "        \"3. Include unit tests and any necessary comments or documentation.\\n\"\n",
    "        \"4. Ensure the code meets the acceptance criteria and handles edge cases.\\n\"\n",
    "        \"5. Commit changes with clear messages describing what was done and why.\"\n",
    "    ),\n",
    "    expected_output=\"A functional code implementation of the feature with accompanying unit tests \"\n",
    "                    \"and inline documentation, ready for code review.\",\n",
    "    agent=software_developer,\n",
    ")\n",
    "\n",
    "test_feature = Task(\n",
    "    description=(\n",
    "        \"1. Review the implemented feature: {feature_request} for correctness, performance, and reliability.\\n\"\n",
    "        \"2. Validate that the feature meets all requirements and acceptance criteria.\\n\"\n",
    "        \"3. Perform exploratory and regression testing to ensure quality.\\n\"\n",
    "        \"4. Report any bugs, inconsistencies, or potential improvements.\"\n",
    "    ),\n",
    "    expected_output=\"A QA report detailing test results, issues found (if any), and validation that the feature \"\n",
    "                    \"is ready for deployment or further refinement.\",\n",
    "    agent=qa_engineer\n",
    ")\n"
   ]
  },
  {
   "cell_type": "code",
   "execution_count": null,
   "metadata": {
    "height": 98
   },
   "outputs": [],
   "source": [
    "crew = Crew(\n",
    "    agents=[product_manager, software_developer, qa_engineer],\n",
    "    tasks=[define_feature, implement_feature, test_feature],\n",
    "    verbose=True\n",
    ")\n",
    "\n",
    "result = crew.kickoff(inputs={\"feature_request\": \"Add JUnit support to the project\"})"
   ]
  },
  {
   "cell_type": "code",
   "execution_count": null,
   "metadata": {
    "height": 30
   },
   "outputs": [],
   "source": [
    "from IPython.display import Markdown, display\n",
    "\n",
    "# Assuming `result` is the output from `crew.kickoff(...)`\n",
    "display(Markdown(result.raw))"
   ]
  },
  {
   "cell_type": "code",
   "execution_count": null,
   "metadata": {},
   "outputs": [],
   "source": []
  }
 ],
 "metadata": {
  "colab": {
   "gpuType": "T4",
   "provenance": []
  },
  "kernelspec": {
   "display_name": ".venv",
   "language": "python",
   "name": "python3"
  },
  "language_info": {
   "codemirror_mode": {
    "name": "ipython",
    "version": 3
   },
   "file_extension": ".py",
   "mimetype": "text/x-python",
   "name": "python",
   "nbconvert_exporter": "python",
   "pygments_lexer": "ipython3",
   "version": "3.12.10"
  }
 },
 "nbformat": 4,
 "nbformat_minor": 4
}
