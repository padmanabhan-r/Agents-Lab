{
 "cells": [
  {
   "cell_type": "code",
   "execution_count": 17,
   "id": "5f01b565",
   "metadata": {},
   "outputs": [],
   "source": [
    "from smolagents import LiteLLMModel, CodeAgent, DuckDuckGoSearchTool\n",
    "\n",
    "# Configure the model with all keys\n",
    "model = LiteLLMModel(\n",
    "    model_id=\"openai/qwen2.5-7b-instruct-1m\",\n",
    "    api_base=\"http://127.0.0.1:1234/v1\",  \n",
    "    api_key=\"lm-studio\",  \n",
    "    num_ctx=4096,  # Context window size (adjust to your model's limit)\n",
    "    temperature=0.2,  # Control randomness\n",
    ")\n"
   ]
  },
  {
   "cell_type": "code",
   "execution_count": 18,
   "id": "aae1df8f",
   "metadata": {},
   "outputs": [
    {
     "data": {
      "text/html": [
       "<pre style=\"white-space:pre;overflow-x:auto;line-height:normal;font-family:Menlo,'DejaVu Sans Mono',consolas,'Courier New',monospace\"><span style=\"color: #d4b702; text-decoration-color: #d4b702\">╭──────────────────────────────────────────────────── </span><span style=\"color: #d4b702; text-decoration-color: #d4b702; font-weight: bold\">New run</span><span style=\"color: #d4b702; text-decoration-color: #d4b702\"> ────────────────────────────────────────────────────╮</span>\n",
       "<span style=\"color: #d4b702; text-decoration-color: #d4b702\">│</span>                                                                                                                 <span style=\"color: #d4b702; text-decoration-color: #d4b702\">│</span>\n",
       "<span style=\"color: #d4b702; text-decoration-color: #d4b702\">│</span> <span style=\"font-weight: bold\">What is the capital of France?</span>                                                                                  <span style=\"color: #d4b702; text-decoration-color: #d4b702\">│</span>\n",
       "<span style=\"color: #d4b702; text-decoration-color: #d4b702\">│</span>                                                                                                                 <span style=\"color: #d4b702; text-decoration-color: #d4b702\">│</span>\n",
       "<span style=\"color: #d4b702; text-decoration-color: #d4b702\">╰─ LiteLLMModel - openai/qwen2.5-7b-instruct-1m ──────────────────────────────────────────────────────────────────╯</span>\n",
       "</pre>\n"
      ],
      "text/plain": [
       "\u001b[38;2;212;183;2m╭─\u001b[0m\u001b[38;2;212;183;2m───────────────────────────────────────────────────\u001b[0m\u001b[38;2;212;183;2m \u001b[0m\u001b[1;38;2;212;183;2mNew run\u001b[0m\u001b[38;2;212;183;2m \u001b[0m\u001b[38;2;212;183;2m───────────────────────────────────────────────────\u001b[0m\u001b[38;2;212;183;2m─╮\u001b[0m\n",
       "\u001b[38;2;212;183;2m│\u001b[0m                                                                                                                 \u001b[38;2;212;183;2m│\u001b[0m\n",
       "\u001b[38;2;212;183;2m│\u001b[0m \u001b[1mWhat is the capital of France?\u001b[0m                                                                                  \u001b[38;2;212;183;2m│\u001b[0m\n",
       "\u001b[38;2;212;183;2m│\u001b[0m                                                                                                                 \u001b[38;2;212;183;2m│\u001b[0m\n",
       "\u001b[38;2;212;183;2m╰─\u001b[0m\u001b[38;2;212;183;2m LiteLLMModel - openai/qwen2.5-7b-instruct-1m \u001b[0m\u001b[38;2;212;183;2m─────────────────────────────────────────────────────────────────\u001b[0m\u001b[38;2;212;183;2m─╯\u001b[0m\n"
      ]
     },
     "metadata": {},
     "output_type": "display_data"
    },
    {
     "data": {
      "text/html": [
       "<pre style=\"white-space:pre;overflow-x:auto;line-height:normal;font-family:Menlo,'DejaVu Sans Mono',consolas,'Courier New',monospace\"><span style=\"color: #d4b702; text-decoration-color: #d4b702\">━━━━━━━━━━━━━━━━━━━━━━━━━━━━━━━━━━━━━━━━━━━━━━━━━━━━━ </span><span style=\"font-weight: bold\">Step </span><span style=\"color: #008080; text-decoration-color: #008080; font-weight: bold\">1</span><span style=\"color: #d4b702; text-decoration-color: #d4b702\"> ━━━━━━━━━━━━━━━━━━━━━━━━━━━━━━━━━━━━━━━━━━━━━━━━━━━━━━</span>\n",
       "</pre>\n"
      ],
      "text/plain": [
       "\u001b[38;2;212;183;2m━━━━━━━━━━━━━━━━━━━━━━━━━━━━━━━━━━━━━━━━━━━━━━━━━━━━━ \u001b[0m\u001b[1mStep \u001b[0m\u001b[1;36m1\u001b[0m\u001b[38;2;212;183;2m ━━━━━━━━━━━━━━━━━━━━━━━━━━━━━━━━━━━━━━━━━━━━━━━━━━━━━━\u001b[0m\n"
      ]
     },
     "metadata": {},
     "output_type": "display_data"
    },
    {
     "data": {
      "text/html": [
       "<pre style=\"white-space:pre;overflow-x:auto;line-height:normal;font-family:Menlo,'DejaVu Sans Mono',consolas,'Courier New',monospace\"> ─ <span style=\"font-weight: bold\">Executing parsed code:</span> ──────────────────────────────────────────────────────────────────────────────────────── \n",
       "  <span style=\"color: #f8f8f2; text-decoration-color: #f8f8f2; background-color: #272822\">capital </span><span style=\"color: #ff4689; text-decoration-color: #ff4689; background-color: #272822\">=</span><span style=\"color: #f8f8f2; text-decoration-color: #f8f8f2; background-color: #272822\"> web_search(query</span><span style=\"color: #ff4689; text-decoration-color: #ff4689; background-color: #272822\">=</span><span style=\"color: #e6db74; text-decoration-color: #e6db74; background-color: #272822\">\"Capital of France\"</span><span style=\"color: #f8f8f2; text-decoration-color: #f8f8f2; background-color: #272822\">)</span><span style=\"background-color: #272822\">                                                                </span>  \n",
       "  <span style=\"color: #f8f8f2; text-decoration-color: #f8f8f2; background-color: #272822\">print(capital)</span><span style=\"background-color: #272822\">                                                                                                 </span>  \n",
       " ───────────────────────────────────────────────────────────────────────────────────────────────────────────────── \n",
       "</pre>\n"
      ],
      "text/plain": [
       " ─ \u001b[1mExecuting parsed code:\u001b[0m ──────────────────────────────────────────────────────────────────────────────────────── \n",
       "  \u001b[38;2;248;248;242;48;2;39;40;34mcapital\u001b[0m\u001b[38;2;248;248;242;48;2;39;40;34m \u001b[0m\u001b[38;2;255;70;137;48;2;39;40;34m=\u001b[0m\u001b[38;2;248;248;242;48;2;39;40;34m \u001b[0m\u001b[38;2;248;248;242;48;2;39;40;34mweb_search\u001b[0m\u001b[38;2;248;248;242;48;2;39;40;34m(\u001b[0m\u001b[38;2;248;248;242;48;2;39;40;34mquery\u001b[0m\u001b[38;2;255;70;137;48;2;39;40;34m=\u001b[0m\u001b[38;2;230;219;116;48;2;39;40;34m\"\u001b[0m\u001b[38;2;230;219;116;48;2;39;40;34mCapital of France\u001b[0m\u001b[38;2;230;219;116;48;2;39;40;34m\"\u001b[0m\u001b[38;2;248;248;242;48;2;39;40;34m)\u001b[0m\u001b[48;2;39;40;34m                                                                \u001b[0m  \n",
       "  \u001b[38;2;248;248;242;48;2;39;40;34mprint\u001b[0m\u001b[38;2;248;248;242;48;2;39;40;34m(\u001b[0m\u001b[38;2;248;248;242;48;2;39;40;34mcapital\u001b[0m\u001b[38;2;248;248;242;48;2;39;40;34m)\u001b[0m\u001b[48;2;39;40;34m                                                                                                 \u001b[0m  \n",
       " ───────────────────────────────────────────────────────────────────────────────────────────────────────────────── \n"
      ]
     },
     "metadata": {},
     "output_type": "display_data"
    },
    {
     "data": {
      "text/html": [
       "<pre style=\"white-space:pre;overflow-x:auto;line-height:normal;font-family:Menlo,'DejaVu Sans Mono',consolas,'Courier New',monospace\"><span style=\"font-weight: bold\">Execution logs:</span>\n",
       "## Search Results\n",
       "\n",
       "[Paris - Wikipedia](https://en.wikipedia.org/wiki/Paris)\n",
       "Paris is a global centre of finance, diplomacy, culture, and gastronomy, with an estimated population of 2 million \n",
       "residents in 2025. It has many famous landmarks, museums, and historical districts, and hosts several international\n",
       "organizations and sports events.\n",
       "\n",
       "[Paris | Definition, Map, Population, Facts, &amp; History | Britannica](https://www.britannica.com/place/Paris)\n",
       "Paris, city and capital of France, located along the Seine River, in the north-central part of the country. Paris \n",
       "is one of the world's most important and attractive cities, famed for its gastronomy, haute couture, painting, \n",
       "literature, and intellectual community. Learn more about Paris in this article.\n",
       "\n",
       "[What is the Capital of France? - \n",
       "WorldAtlas](https://www.worldatlas.com/articles/what-is-the-capital-of-france.html)\n",
       "Learn about the history, geography, economy, tourism, and administration of Paris, the capital city of France and \n",
       "the country's largest city. Find out why Paris is called the City of Light and the City of Love.\n",
       "\n",
       "[Paris - Simple English Wikipedia, the free encyclopedia](https://simple.wikipedia.org/wiki/Paris)\n",
       "Paris is the capital city and the largest city of France, with a population of about 2.15 million. It has a rich \n",
       "history, many art museums, historical buildings, and a famous landmark, the Eiffel Tower.\n",
       "\n",
       "[France | History, Maps, Flag, Population, Cities, Capital, &amp; Facts ...](https://www.britannica.com/place/France)\n",
       "France, a country of northwestern Europe, is historically and culturally among the most important countries in the \n",
       "Western world. It has also played a highly significant role in international affairs for centuries. Its capital is \n",
       "Paris, one of the most important cultural and commercial centers in the world.\n",
       "\n",
       "[Paris: Facts &amp; Related Content - Encyclopedia Britannica](https://www.britannica.com/facts/Paris)\n",
       "Paris, the capital of France, is located in the north-central portion of the country. It constitutes one of the \n",
       "départements of the Île-de-France administrative region and is France's most important centre of commerce and \n",
       "culture. The city is home to the Eiffel Tower, one of the world's premier tourist attractions, which opened to the \n",
       "public on May 15, 1889.\n",
       "\n",
       "[Capital of France - Simple English Wikipedia, the free \n",
       "encyclopedia](https://simple.wikipedia.org/wiki/Capital_of_France)\n",
       "Learn about the history and current status of the capital of France, Paris. Find out which other cities have been \n",
       "the national capital in different periods of time.\n",
       "\n",
       "[Paris, France - New World Encyclopedia](https://www.newworldencyclopedia.org/entry/Paris,_France)\n",
       "Learn about the history, culture, and attractions of Paris, the capital city of France and one of the world's \n",
       "leading global cities. Find out how Paris got its name, its role in the French Revolution, and its famous landmarks\n",
       "such as the Eiffel Tower and the Louvre.\n",
       "\n",
       "[What is the Capital of France? - Mappr](https://www.mappr.co/capital-cities/france/)\n",
       "Learn about Paris, the capital of France, and its rich history, culture, and geography. Discover its landmarks, \n",
       "climate, population, and role as a global city.\n",
       "\n",
       "[Paris, Capital city of France - The World Countries](https://theworldcountries.com/geo/capital-city/Paris)\n",
       "Paris (French pronunciation: [paʁi] ) is the capital and largest city of France. With an estimated population of \n",
       "2,048,472 residents in January 2025 in an area of more than 105 km2 (41 sq mi), Paris is the fourth-most populous \n",
       "city in the European Union and the 30th most densely populated city in the world in 2022.\n",
       "\n",
       "Out: None\n",
       "</pre>\n"
      ],
      "text/plain": [
       "\u001b[1mExecution logs:\u001b[0m\n",
       "## Search Results\n",
       "\n",
       "[Paris - Wikipedia](https://en.wikipedia.org/wiki/Paris)\n",
       "Paris is a global centre of finance, diplomacy, culture, and gastronomy, with an estimated population of 2 million \n",
       "residents in 2025. It has many famous landmarks, museums, and historical districts, and hosts several international\n",
       "organizations and sports events.\n",
       "\n",
       "[Paris | Definition, Map, Population, Facts, & History | Britannica](https://www.britannica.com/place/Paris)\n",
       "Paris, city and capital of France, located along the Seine River, in the north-central part of the country. Paris \n",
       "is one of the world's most important and attractive cities, famed for its gastronomy, haute couture, painting, \n",
       "literature, and intellectual community. Learn more about Paris in this article.\n",
       "\n",
       "[What is the Capital of France? - \n",
       "WorldAtlas](https://www.worldatlas.com/articles/what-is-the-capital-of-france.html)\n",
       "Learn about the history, geography, economy, tourism, and administration of Paris, the capital city of France and \n",
       "the country's largest city. Find out why Paris is called the City of Light and the City of Love.\n",
       "\n",
       "[Paris - Simple English Wikipedia, the free encyclopedia](https://simple.wikipedia.org/wiki/Paris)\n",
       "Paris is the capital city and the largest city of France, with a population of about 2.15 million. It has a rich \n",
       "history, many art museums, historical buildings, and a famous landmark, the Eiffel Tower.\n",
       "\n",
       "[France | History, Maps, Flag, Population, Cities, Capital, & Facts ...](https://www.britannica.com/place/France)\n",
       "France, a country of northwestern Europe, is historically and culturally among the most important countries in the \n",
       "Western world. It has also played a highly significant role in international affairs for centuries. Its capital is \n",
       "Paris, one of the most important cultural and commercial centers in the world.\n",
       "\n",
       "[Paris: Facts & Related Content - Encyclopedia Britannica](https://www.britannica.com/facts/Paris)\n",
       "Paris, the capital of France, is located in the north-central portion of the country. It constitutes one of the \n",
       "départements of the Île-de-France administrative region and is France's most important centre of commerce and \n",
       "culture. The city is home to the Eiffel Tower, one of the world's premier tourist attractions, which opened to the \n",
       "public on May 15, 1889.\n",
       "\n",
       "[Capital of France - Simple English Wikipedia, the free \n",
       "encyclopedia](https://simple.wikipedia.org/wiki/Capital_of_France)\n",
       "Learn about the history and current status of the capital of France, Paris. Find out which other cities have been \n",
       "the national capital in different periods of time.\n",
       "\n",
       "[Paris, France - New World Encyclopedia](https://www.newworldencyclopedia.org/entry/Paris,_France)\n",
       "Learn about the history, culture, and attractions of Paris, the capital city of France and one of the world's \n",
       "leading global cities. Find out how Paris got its name, its role in the French Revolution, and its famous landmarks\n",
       "such as the Eiffel Tower and the Louvre.\n",
       "\n",
       "[What is the Capital of France? - Mappr](https://www.mappr.co/capital-cities/france/)\n",
       "Learn about Paris, the capital of France, and its rich history, culture, and geography. Discover its landmarks, \n",
       "climate, population, and role as a global city.\n",
       "\n",
       "[Paris, Capital city of France - The World Countries](https://theworldcountries.com/geo/capital-city/Paris)\n",
       "Paris (French pronunciation: [paʁi] ) is the capital and largest city of France. With an estimated population of \n",
       "2,048,472 residents in January 2025 in an area of more than 105 km2 (41 sq mi), Paris is the fourth-most populous \n",
       "city in the European Union and the 30th most densely populated city in the world in 2022.\n",
       "\n",
       "Out: None\n"
      ]
     },
     "metadata": {},
     "output_type": "display_data"
    },
    {
     "data": {
      "text/html": [
       "<pre style=\"white-space:pre;overflow-x:auto;line-height:normal;font-family:Menlo,'DejaVu Sans Mono',consolas,'Courier New',monospace\"><span style=\"color: #7f7f7f; text-decoration-color: #7f7f7f\">[Step 1: Duration 38.21 seconds| Input tokens: 2,044 | Output tokens: 43]</span>\n",
       "</pre>\n"
      ],
      "text/plain": [
       "\u001b[2m[Step 1: Duration 38.21 seconds| Input tokens: 2,044 | Output tokens: 43]\u001b[0m\n"
      ]
     },
     "metadata": {},
     "output_type": "display_data"
    },
    {
     "data": {
      "text/html": [
       "<pre style=\"white-space:pre;overflow-x:auto;line-height:normal;font-family:Menlo,'DejaVu Sans Mono',consolas,'Courier New',monospace\"><span style=\"color: #d4b702; text-decoration-color: #d4b702\">━━━━━━━━━━━━━━━━━━━━━━━━━━━━━━━━━━━━━━━━━━━━━━━━━━━━━ </span><span style=\"font-weight: bold\">Step </span><span style=\"color: #008080; text-decoration-color: #008080; font-weight: bold\">2</span><span style=\"color: #d4b702; text-decoration-color: #d4b702\"> ━━━━━━━━━━━━━━━━━━━━━━━━━━━━━━━━━━━━━━━━━━━━━━━━━━━━━━</span>\n",
       "</pre>\n"
      ],
      "text/plain": [
       "\u001b[38;2;212;183;2m━━━━━━━━━━━━━━━━━━━━━━━━━━━━━━━━━━━━━━━━━━━━━━━━━━━━━ \u001b[0m\u001b[1mStep \u001b[0m\u001b[1;36m2\u001b[0m\u001b[38;2;212;183;2m ━━━━━━━━━━━━━━━━━━━━━━━━━━━━━━━━━━━━━━━━━━━━━━━━━━━━━━\u001b[0m\n"
      ]
     },
     "metadata": {},
     "output_type": "display_data"
    },
    {
     "data": {
      "text/html": [
       "<pre style=\"white-space:pre;overflow-x:auto;line-height:normal;font-family:Menlo,'DejaVu Sans Mono',consolas,'Courier New',monospace\"> ─ <span style=\"font-weight: bold\">Executing parsed code:</span> ──────────────────────────────────────────────────────────────────────────────────────── \n",
       "  <span style=\"color: #f8f8f2; text-decoration-color: #f8f8f2; background-color: #272822\">final_answer(</span><span style=\"color: #e6db74; text-decoration-color: #e6db74; background-color: #272822\">\"Paris\"</span><span style=\"color: #f8f8f2; text-decoration-color: #f8f8f2; background-color: #272822\">)</span><span style=\"background-color: #272822\">                                                                                          </span>  \n",
       " ───────────────────────────────────────────────────────────────────────────────────────────────────────────────── \n",
       "</pre>\n"
      ],
      "text/plain": [
       " ─ \u001b[1mExecuting parsed code:\u001b[0m ──────────────────────────────────────────────────────────────────────────────────────── \n",
       "  \u001b[38;2;248;248;242;48;2;39;40;34mfinal_answer\u001b[0m\u001b[38;2;248;248;242;48;2;39;40;34m(\u001b[0m\u001b[38;2;230;219;116;48;2;39;40;34m\"\u001b[0m\u001b[38;2;230;219;116;48;2;39;40;34mParis\u001b[0m\u001b[38;2;230;219;116;48;2;39;40;34m\"\u001b[0m\u001b[38;2;248;248;242;48;2;39;40;34m)\u001b[0m\u001b[48;2;39;40;34m                                                                                          \u001b[0m  \n",
       " ───────────────────────────────────────────────────────────────────────────────────────────────────────────────── \n"
      ]
     },
     "metadata": {},
     "output_type": "display_data"
    },
    {
     "data": {
      "text/html": [
       "<pre style=\"white-space:pre;overflow-x:auto;line-height:normal;font-family:Menlo,'DejaVu Sans Mono',consolas,'Courier New',monospace\"><span style=\"color: #d4b702; text-decoration-color: #d4b702; font-weight: bold\">Out - Final answer: Paris</span>\n",
       "</pre>\n"
      ],
      "text/plain": [
       "\u001b[1;38;2;212;183;2mOut - Final answer: Paris\u001b[0m\n"
      ]
     },
     "metadata": {},
     "output_type": "display_data"
    },
    {
     "data": {
      "text/html": [
       "<pre style=\"white-space:pre;overflow-x:auto;line-height:normal;font-family:Menlo,'DejaVu Sans Mono',consolas,'Courier New',monospace\"><span style=\"color: #7f7f7f; text-decoration-color: #7f7f7f\">[Step 2: Duration 48.81 seconds| Input tokens: 5,027 | Output tokens: 84]</span>\n",
       "</pre>\n"
      ],
      "text/plain": [
       "\u001b[2m[Step 2: Duration 48.81 seconds| Input tokens: 5,027 | Output tokens: 84]\u001b[0m\n"
      ]
     },
     "metadata": {},
     "output_type": "display_data"
    },
    {
     "name": "stdout",
     "output_type": "stream",
     "text": [
      "Paris\n"
     ]
    }
   ],
   "source": [
    "# Initialize the agent (no tools for now)\n",
    "agent = CodeAgent(\n",
    "    tools=[DuckDuckGoSearchTool()], \n",
    "    model=model,\n",
    ")\n",
    "\n",
    "# Run the agent with a prompt\n",
    "response = agent.run(\"What is the capital of France?\")\n",
    "print(response)\n"
   ]
  },
  {
   "cell_type": "markdown",
   "id": "633b83f1",
   "metadata": {},
   "source": []
  },
  {
   "cell_type": "code",
   "execution_count": null,
   "id": "547006b4",
   "metadata": {},
   "outputs": [],
   "source": []
  }
 ],
 "metadata": {
  "kernelspec": {
   "display_name": ".venv",
   "language": "python",
   "name": "python3"
  },
  "language_info": {
   "codemirror_mode": {
    "name": "ipython",
    "version": 3
   },
   "file_extension": ".py",
   "mimetype": "text/x-python",
   "name": "python",
   "nbconvert_exporter": "python",
   "pygments_lexer": "ipython3",
   "version": "3.13.3"
  }
 },
 "nbformat": 4,
 "nbformat_minor": 5
}
