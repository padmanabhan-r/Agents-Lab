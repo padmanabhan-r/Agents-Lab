{
 "cells": [
  {
   "cell_type": "code",
   "execution_count": 4,
   "id": "5f01b565",
   "metadata": {},
   "outputs": [
    {
     "ename": "ModuleNotFoundError",
     "evalue": "Please install 'litellm' extra to use LiteLLMModel: `pip install 'smolagents[litellm]'`",
     "output_type": "error",
     "traceback": [
      "\u001b[31m---------------------------------------------------------------------------\u001b[39m",
      "\u001b[31mModuleNotFoundError\u001b[39m                       Traceback (most recent call last)",
      "\u001b[36mFile \u001b[39m\u001b[32m~/Documents/Github/agents-exp/agents-env/lib/python3.13/site-packages/smolagents/models.py:947\u001b[39m, in \u001b[36mLiteLLMModel.create_client\u001b[39m\u001b[34m(self)\u001b[39m\n\u001b[32m    946\u001b[39m \u001b[38;5;28;01mtry\u001b[39;00m:\n\u001b[32m--> \u001b[39m\u001b[32m947\u001b[39m     \u001b[38;5;28;01mimport\u001b[39;00m\u001b[38;5;250m \u001b[39m\u001b[34;01mlitellm\u001b[39;00m\n\u001b[32m    948\u001b[39m \u001b[38;5;28;01mexcept\u001b[39;00m \u001b[38;5;167;01mModuleNotFoundError\u001b[39;00m \u001b[38;5;28;01mas\u001b[39;00m e:\n",
      "\u001b[36mFile \u001b[39m\u001b[32m~/Documents/Github/agents-exp/agents-env/lib/python3.13/site-packages/litellm/__init__.py:1058\u001b[39m\n\u001b[32m   1057\u001b[39m \u001b[38;5;28;01mfrom\u001b[39;00m\u001b[38;5;250m \u001b[39m\u001b[34;01m.\u001b[39;00m\u001b[34;01mllms\u001b[39;00m\u001b[34;01m.\u001b[39;00m\u001b[34;01manthropic\u001b[39;00m\u001b[34;01m.\u001b[39;00m\u001b[34;01mexperimental_pass_through\u001b[39;00m\u001b[34;01m.\u001b[39;00m\u001b[34;01mmessages\u001b[39;00m\u001b[34;01m.\u001b[39;00m\u001b[34;01mhandler\u001b[39;00m\u001b[38;5;250m \u001b[39m\u001b[38;5;28;01mimport\u001b[39;00m *\n\u001b[32m-> \u001b[39m\u001b[32m1058\u001b[39m \u001b[38;5;28;01mfrom\u001b[39;00m\u001b[38;5;250m \u001b[39m\u001b[34;01m.\u001b[39;00m\u001b[34;01mresponses\u001b[39;00m\u001b[34;01m.\u001b[39;00m\u001b[34;01mmain\u001b[39;00m\u001b[38;5;250m \u001b[39m\u001b[38;5;28;01mimport\u001b[39;00m *\n\u001b[32m   1059\u001b[39m \u001b[38;5;28;01mfrom\u001b[39;00m\u001b[38;5;250m \u001b[39m\u001b[34;01m.\u001b[39;00m\u001b[34;01mrealtime_api\u001b[39;00m\u001b[34;01m.\u001b[39;00m\u001b[34;01mmain\u001b[39;00m\u001b[38;5;250m \u001b[39m\u001b[38;5;28;01mimport\u001b[39;00m _arealtime\n",
      "\u001b[36mFile \u001b[39m\u001b[32m~/Documents/Github/agents-exp/agents-env/lib/python3.13/site-packages/litellm/responses/main.py:13\u001b[39m\n\u001b[32m     12\u001b[39m \u001b[38;5;28;01mfrom\u001b[39;00m\u001b[38;5;250m \u001b[39m\u001b[34;01mlitellm\u001b[39;00m\u001b[34;01m.\u001b[39;00m\u001b[34;01mllms\u001b[39;00m\u001b[34;01m.\u001b[39;00m\u001b[34;01mcustom_httpx\u001b[39;00m\u001b[34;01m.\u001b[39;00m\u001b[34;01mllm_http_handler\u001b[39;00m\u001b[38;5;250m \u001b[39m\u001b[38;5;28;01mimport\u001b[39;00m BaseLLMHTTPHandler\n\u001b[32m---> \u001b[39m\u001b[32m13\u001b[39m \u001b[38;5;28;01mfrom\u001b[39;00m\u001b[38;5;250m \u001b[39m\u001b[34;01mlitellm\u001b[39;00m\u001b[34;01m.\u001b[39;00m\u001b[34;01mresponses\u001b[39;00m\u001b[34;01m.\u001b[39;00m\u001b[34;01mlitellm_completion_transformation\u001b[39;00m\u001b[34;01m.\u001b[39;00m\u001b[34;01mhandler\u001b[39;00m\u001b[38;5;250m \u001b[39m\u001b[38;5;28;01mimport\u001b[39;00m (\n\u001b[32m     14\u001b[39m     LiteLLMCompletionTransformationHandler,\n\u001b[32m     15\u001b[39m )\n\u001b[32m     16\u001b[39m \u001b[38;5;28;01mfrom\u001b[39;00m\u001b[38;5;250m \u001b[39m\u001b[34;01mlitellm\u001b[39;00m\u001b[34;01m.\u001b[39;00m\u001b[34;01mresponses\u001b[39;00m\u001b[34;01m.\u001b[39;00m\u001b[34;01mutils\u001b[39;00m\u001b[38;5;250m \u001b[39m\u001b[38;5;28;01mimport\u001b[39;00m ResponsesAPIRequestUtils\n",
      "\u001b[36mFile \u001b[39m\u001b[32m~/Documents/Github/agents-exp/agents-env/lib/python3.13/site-packages/litellm/responses/litellm_completion_transformation/handler.py:8\u001b[39m\n\u001b[32m      7\u001b[39m \u001b[38;5;28;01mimport\u001b[39;00m\u001b[38;5;250m \u001b[39m\u001b[34;01mlitellm\u001b[39;00m\n\u001b[32m----> \u001b[39m\u001b[32m8\u001b[39m \u001b[38;5;28;01mfrom\u001b[39;00m\u001b[38;5;250m \u001b[39m\u001b[34;01mlitellm\u001b[39;00m\u001b[34;01m.\u001b[39;00m\u001b[34;01mresponses\u001b[39;00m\u001b[34;01m.\u001b[39;00m\u001b[34;01mlitellm_completion_transformation\u001b[39;00m\u001b[34;01m.\u001b[39;00m\u001b[34;01mstreaming_iterator\u001b[39;00m\u001b[38;5;250m \u001b[39m\u001b[38;5;28;01mimport\u001b[39;00m (\n\u001b[32m      9\u001b[39m     LiteLLMCompletionStreamingIterator,\n\u001b[32m     10\u001b[39m )\n\u001b[32m     11\u001b[39m \u001b[38;5;28;01mfrom\u001b[39;00m\u001b[38;5;250m \u001b[39m\u001b[34;01mlitellm\u001b[39;00m\u001b[34;01m.\u001b[39;00m\u001b[34;01mresponses\u001b[39;00m\u001b[34;01m.\u001b[39;00m\u001b[34;01mlitellm_completion_transformation\u001b[39;00m\u001b[34;01m.\u001b[39;00m\u001b[34;01mtransformation\u001b[39;00m\u001b[38;5;250m \u001b[39m\u001b[38;5;28;01mimport\u001b[39;00m (\n\u001b[32m     12\u001b[39m     LiteLLMCompletionResponsesConfig,\n\u001b[32m     13\u001b[39m )\n",
      "\u001b[36mFile \u001b[39m\u001b[32m~/Documents/Github/agents-exp/agents-env/lib/python3.13/site-packages/litellm/responses/litellm_completion_transformation/streaming_iterator.py:5\u001b[39m\n\u001b[32m      4\u001b[39m \u001b[38;5;28;01mfrom\u001b[39;00m\u001b[38;5;250m \u001b[39m\u001b[34;01mlitellm\u001b[39;00m\u001b[34;01m.\u001b[39;00m\u001b[34;01mmain\u001b[39;00m\u001b[38;5;250m \u001b[39m\u001b[38;5;28;01mimport\u001b[39;00m stream_chunk_builder\n\u001b[32m----> \u001b[39m\u001b[32m5\u001b[39m \u001b[38;5;28;01mfrom\u001b[39;00m\u001b[38;5;250m \u001b[39m\u001b[34;01mlitellm\u001b[39;00m\u001b[34;01m.\u001b[39;00m\u001b[34;01mresponses\u001b[39;00m\u001b[34;01m.\u001b[39;00m\u001b[34;01mlitellm_completion_transformation\u001b[39;00m\u001b[34;01m.\u001b[39;00m\u001b[34;01mtransformation\u001b[39;00m\u001b[38;5;250m \u001b[39m\u001b[38;5;28;01mimport\u001b[39;00m (\n\u001b[32m      6\u001b[39m     LiteLLMCompletionResponsesConfig,\n\u001b[32m      7\u001b[39m )\n\u001b[32m      8\u001b[39m \u001b[38;5;28;01mfrom\u001b[39;00m\u001b[38;5;250m \u001b[39m\u001b[34;01mlitellm\u001b[39;00m\u001b[34;01m.\u001b[39;00m\u001b[34;01mresponses\u001b[39;00m\u001b[34;01m.\u001b[39;00m\u001b[34;01mstreaming_iterator\u001b[39;00m\u001b[38;5;250m \u001b[39m\u001b[38;5;28;01mimport\u001b[39;00m ResponsesAPIStreamingIterator\n",
      "\u001b[36mFile \u001b[39m\u001b[32m~/Documents/Github/agents-exp/agents-env/lib/python3.13/site-packages/litellm/responses/litellm_completion_transformation/transformation.py:9\u001b[39m\n\u001b[32m      7\u001b[39m \u001b[38;5;28;01mfrom\u001b[39;00m\u001b[38;5;250m \u001b[39m\u001b[34;01mopenai\u001b[39;00m\u001b[34;01m.\u001b[39;00m\u001b[34;01mtypes\u001b[39;00m\u001b[34;01m.\u001b[39;00m\u001b[34;01mresponses\u001b[39;00m\u001b[34;01m.\u001b[39;00m\u001b[34;01mtool_param\u001b[39;00m\u001b[38;5;250m \u001b[39m\u001b[38;5;28;01mimport\u001b[39;00m FunctionToolParam\n\u001b[32m----> \u001b[39m\u001b[32m9\u001b[39m \u001b[38;5;28;01mfrom\u001b[39;00m\u001b[38;5;250m \u001b[39m\u001b[34;01menterprise\u001b[39;00m\u001b[34;01m.\u001b[39;00m\u001b[34;01menterprise_hooks\u001b[39;00m\u001b[34;01m.\u001b[39;00m\u001b[34;01msession_handler\u001b[39;00m\u001b[38;5;250m \u001b[39m\u001b[38;5;28;01mimport\u001b[39;00m (\n\u001b[32m     10\u001b[39m     ChatCompletionSession,\n\u001b[32m     11\u001b[39m     _ENTERPRISE_ResponsesSessionHandler,\n\u001b[32m     12\u001b[39m )\n\u001b[32m     13\u001b[39m \u001b[38;5;28;01mfrom\u001b[39;00m\u001b[38;5;250m \u001b[39m\u001b[34;01mlitellm\u001b[39;00m\u001b[34;01m.\u001b[39;00m\u001b[34;01mcaching\u001b[39;00m\u001b[38;5;250m \u001b[39m\u001b[38;5;28;01mimport\u001b[39;00m InMemoryCache\n",
      "\u001b[31mModuleNotFoundError\u001b[39m: No module named 'enterprise'",
      "\nThe above exception was the direct cause of the following exception:\n",
      "\u001b[31mModuleNotFoundError\u001b[39m                       Traceback (most recent call last)",
      "\u001b[36mCell\u001b[39m\u001b[36m \u001b[39m\u001b[32mIn[4]\u001b[39m\u001b[32m, line 4\u001b[39m\n\u001b[32m      1\u001b[39m \u001b[38;5;28;01mfrom\u001b[39;00m\u001b[38;5;250m \u001b[39m\u001b[34;01msmolagents\u001b[39;00m\u001b[38;5;250m \u001b[39m\u001b[38;5;28;01mimport\u001b[39;00m LiteLLMModel, CodeAgent, DuckDuckGoSearchTool\n\u001b[32m      3\u001b[39m \u001b[38;5;66;03m# Configure the model with all keys\u001b[39;00m\n\u001b[32m----> \u001b[39m\u001b[32m4\u001b[39m model = \u001b[43mLiteLLMModel\u001b[49m\u001b[43m(\u001b[49m\n\u001b[32m      5\u001b[39m \u001b[43m    \u001b[49m\u001b[43mmodel_id\u001b[49m\u001b[43m=\u001b[49m\u001b[33;43m\"\u001b[39;49m\u001b[33;43mopenai/qwen2.5-7b-instruct-1m\u001b[39;49m\u001b[33;43m\"\u001b[39;49m\u001b[43m,\u001b[49m\n\u001b[32m      6\u001b[39m \u001b[43m    \u001b[49m\u001b[43mapi_base\u001b[49m\u001b[43m=\u001b[49m\u001b[33;43m\"\u001b[39;49m\u001b[33;43mhttp://127.0.0.1:1234/v1\u001b[39;49m\u001b[33;43m\"\u001b[39;49m\u001b[43m,\u001b[49m\u001b[43m  \u001b[49m\n\u001b[32m      7\u001b[39m \u001b[43m    \u001b[49m\u001b[43mapi_key\u001b[49m\u001b[43m=\u001b[49m\u001b[33;43m\"\u001b[39;49m\u001b[33;43mlm-studio\u001b[39;49m\u001b[33;43m\"\u001b[39;49m\u001b[43m,\u001b[49m\u001b[43m  \u001b[49m\n\u001b[32m      8\u001b[39m \u001b[43m    \u001b[49m\u001b[43mnum_ctx\u001b[49m\u001b[43m=\u001b[49m\u001b[32;43m4096\u001b[39;49m\u001b[43m,\u001b[49m\u001b[43m  \u001b[49m\u001b[38;5;66;43;03m# Context window size (adjust to your model's limit)\u001b[39;49;00m\n\u001b[32m      9\u001b[39m \u001b[43m    \u001b[49m\u001b[43mtemperature\u001b[49m\u001b[43m=\u001b[49m\u001b[32;43m0.2\u001b[39;49m\u001b[43m,\u001b[49m\u001b[43m  \u001b[49m\u001b[38;5;66;43;03m# Control randomness\u001b[39;49;00m\n\u001b[32m     10\u001b[39m \u001b[43m)\u001b[49m\n",
      "\u001b[36mFile \u001b[39m\u001b[32m~/Documents/Github/agents-exp/agents-env/lib/python3.13/site-packages/smolagents/models.py:937\u001b[39m, in \u001b[36mLiteLLMModel.__init__\u001b[39m\u001b[34m(self, model_id, api_base, api_key, custom_role_conversions, flatten_messages_as_text, **kwargs)\u001b[39m\n\u001b[32m    931\u001b[39m \u001b[38;5;28mself\u001b[39m.api_key = api_key\n\u001b[32m    932\u001b[39m flatten_messages_as_text = (\n\u001b[32m    933\u001b[39m     flatten_messages_as_text\n\u001b[32m    934\u001b[39m     \u001b[38;5;28;01mif\u001b[39;00m flatten_messages_as_text \u001b[38;5;129;01mis\u001b[39;00m \u001b[38;5;129;01mnot\u001b[39;00m \u001b[38;5;28;01mNone\u001b[39;00m\n\u001b[32m    935\u001b[39m     \u001b[38;5;28;01melse\u001b[39;00m model_id.startswith((\u001b[33m\"\u001b[39m\u001b[33mollama\u001b[39m\u001b[33m\"\u001b[39m, \u001b[33m\"\u001b[39m\u001b[33mgroq\u001b[39m\u001b[33m\"\u001b[39m, \u001b[33m\"\u001b[39m\u001b[33mcerebras\u001b[39m\u001b[33m\"\u001b[39m))\n\u001b[32m    936\u001b[39m )\n\u001b[32m--> \u001b[39m\u001b[32m937\u001b[39m \u001b[38;5;28;43msuper\u001b[39;49m\u001b[43m(\u001b[49m\u001b[43m)\u001b[49m\u001b[43m.\u001b[49m\u001b[34;43m__init__\u001b[39;49m\u001b[43m(\u001b[49m\n\u001b[32m    938\u001b[39m \u001b[43m    \u001b[49m\u001b[43mmodel_id\u001b[49m\u001b[43m=\u001b[49m\u001b[43mmodel_id\u001b[49m\u001b[43m,\u001b[49m\n\u001b[32m    939\u001b[39m \u001b[43m    \u001b[49m\u001b[43mcustom_role_conversions\u001b[49m\u001b[43m=\u001b[49m\u001b[43mcustom_role_conversions\u001b[49m\u001b[43m,\u001b[49m\n\u001b[32m    940\u001b[39m \u001b[43m    \u001b[49m\u001b[43mflatten_messages_as_text\u001b[49m\u001b[43m=\u001b[49m\u001b[43mflatten_messages_as_text\u001b[49m\u001b[43m,\u001b[49m\n\u001b[32m    941\u001b[39m \u001b[43m    \u001b[49m\u001b[43m*\u001b[49m\u001b[43m*\u001b[49m\u001b[43mkwargs\u001b[49m\u001b[43m,\u001b[49m\n\u001b[32m    942\u001b[39m \u001b[43m\u001b[49m\u001b[43m)\u001b[49m\n",
      "\u001b[36mFile \u001b[39m\u001b[32m~/Documents/Github/agents-exp/agents-env/lib/python3.13/site-packages/smolagents/models.py:875\u001b[39m, in \u001b[36mApiModel.__init__\u001b[39m\u001b[34m(self, model_id, custom_role_conversions, client, **kwargs)\u001b[39m\n\u001b[32m    873\u001b[39m \u001b[38;5;28mself\u001b[39m.model_id = model_id\n\u001b[32m    874\u001b[39m \u001b[38;5;28mself\u001b[39m.custom_role_conversions = custom_role_conversions \u001b[38;5;129;01mor\u001b[39;00m {}\n\u001b[32m--> \u001b[39m\u001b[32m875\u001b[39m \u001b[38;5;28mself\u001b[39m.client = client \u001b[38;5;129;01mor\u001b[39;00m \u001b[38;5;28;43mself\u001b[39;49m\u001b[43m.\u001b[49m\u001b[43mcreate_client\u001b[49m\u001b[43m(\u001b[49m\u001b[43m)\u001b[49m\n",
      "\u001b[36mFile \u001b[39m\u001b[32m~/Documents/Github/agents-exp/agents-env/lib/python3.13/site-packages/smolagents/models.py:949\u001b[39m, in \u001b[36mLiteLLMModel.create_client\u001b[39m\u001b[34m(self)\u001b[39m\n\u001b[32m    947\u001b[39m     \u001b[38;5;28;01mimport\u001b[39;00m\u001b[38;5;250m \u001b[39m\u001b[34;01mlitellm\u001b[39;00m\n\u001b[32m    948\u001b[39m \u001b[38;5;28;01mexcept\u001b[39;00m \u001b[38;5;167;01mModuleNotFoundError\u001b[39;00m \u001b[38;5;28;01mas\u001b[39;00m e:\n\u001b[32m--> \u001b[39m\u001b[32m949\u001b[39m     \u001b[38;5;28;01mraise\u001b[39;00m \u001b[38;5;167;01mModuleNotFoundError\u001b[39;00m(\n\u001b[32m    950\u001b[39m         \u001b[33m\"\u001b[39m\u001b[33mPlease install \u001b[39m\u001b[33m'\u001b[39m\u001b[33mlitellm\u001b[39m\u001b[33m'\u001b[39m\u001b[33m extra to use LiteLLMModel: `pip install \u001b[39m\u001b[33m'\u001b[39m\u001b[33msmolagents[litellm]\u001b[39m\u001b[33m'\u001b[39m\u001b[33m`\u001b[39m\u001b[33m\"\u001b[39m\n\u001b[32m    951\u001b[39m     ) \u001b[38;5;28;01mfrom\u001b[39;00m\u001b[38;5;250m \u001b[39m\u001b[34;01me\u001b[39;00m\n\u001b[32m    953\u001b[39m \u001b[38;5;28;01mreturn\u001b[39;00m litellm\n",
      "\u001b[31mModuleNotFoundError\u001b[39m: Please install 'litellm' extra to use LiteLLMModel: `pip install 'smolagents[litellm]'`"
     ]
    }
   ],
   "source": [
    "from smolagents import LiteLLMModel, CodeAgent, DuckDuckGoSearchTool\n",
    "\n",
    "# Configure the model with all keys\n",
    "model = LiteLLMModel(\n",
    "    model_id=\"openai/qwen2.5-7b-instruct-1m\",\n",
    "    api_base=\"http://127.0.0.1:1234/v1\",  \n",
    "    api_key=\"lm-studio\",  \n",
    "    num_ctx=4096,  # Context window size (adjust to your model's limit)\n",
    "    temperature=0.2,  # Control randomness\n",
    ")\n"
   ]
  },
  {
   "cell_type": "code",
   "execution_count": 3,
   "id": "fdd40381",
   "metadata": {},
   "outputs": [
    {
     "name": "stdout",
     "output_type": "stream",
     "text": [
      "Requirement already satisfied: pip in /home/padmanabhan/Documents/Github/agents-exp/agents-env/lib/python3.13/site-packages (25.0.1)\n",
      "Collecting pip\n",
      "  Downloading pip-25.1-py3-none-any.whl.metadata (3.6 kB)\n",
      "Downloading pip-25.1-py3-none-any.whl (1.8 MB)\n",
      "\u001b[2K   \u001b[90m━━━━━━━━━━━━━━━━━━━━━━━━━━━━━━━━━━━━━━━━\u001b[0m \u001b[32m1.8/1.8 MB\u001b[0m \u001b[31m8.4 MB/s\u001b[0m eta \u001b[36m0:00:00\u001b[0ma \u001b[36m0:00:01\u001b[0m\n",
      "\u001b[?25hInstalling collected packages: pip\n",
      "  Attempting uninstall: pip\n",
      "    Found existing installation: pip 25.0.1\n",
      "    Uninstalling pip-25.0.1:\n",
      "      Successfully uninstalled pip-25.0.1\n",
      "Successfully installed pip-25.1\n"
     ]
    }
   ],
   "source": [
    "!pip install --upgrade pip"
   ]
  },
  {
   "cell_type": "code",
   "execution_count": 18,
   "id": "aae1df8f",
   "metadata": {},
   "outputs": [
    {
     "data": {
      "text/html": [
       "<pre style=\"white-space:pre;overflow-x:auto;line-height:normal;font-family:Menlo,'DejaVu Sans Mono',consolas,'Courier New',monospace\"><span style=\"color: #d4b702; text-decoration-color: #d4b702\">╭──────────────────────────────────────────────────── </span><span style=\"color: #d4b702; text-decoration-color: #d4b702; font-weight: bold\">New run</span><span style=\"color: #d4b702; text-decoration-color: #d4b702\"> ────────────────────────────────────────────────────╮</span>\n",
       "<span style=\"color: #d4b702; text-decoration-color: #d4b702\">│</span>                                                                                                                 <span style=\"color: #d4b702; text-decoration-color: #d4b702\">│</span>\n",
       "<span style=\"color: #d4b702; text-decoration-color: #d4b702\">│</span> <span style=\"font-weight: bold\">What is the capital of France?</span>                                                                                  <span style=\"color: #d4b702; text-decoration-color: #d4b702\">│</span>\n",
       "<span style=\"color: #d4b702; text-decoration-color: #d4b702\">│</span>                                                                                                                 <span style=\"color: #d4b702; text-decoration-color: #d4b702\">│</span>\n",
       "<span style=\"color: #d4b702; text-decoration-color: #d4b702\">╰─ LiteLLMModel - openai/qwen2.5-7b-instruct-1m ──────────────────────────────────────────────────────────────────╯</span>\n",
       "</pre>\n"
      ],
      "text/plain": [
       "\u001b[38;2;212;183;2m╭─\u001b[0m\u001b[38;2;212;183;2m───────────────────────────────────────────────────\u001b[0m\u001b[38;2;212;183;2m \u001b[0m\u001b[1;38;2;212;183;2mNew run\u001b[0m\u001b[38;2;212;183;2m \u001b[0m\u001b[38;2;212;183;2m───────────────────────────────────────────────────\u001b[0m\u001b[38;2;212;183;2m─╮\u001b[0m\n",
       "\u001b[38;2;212;183;2m│\u001b[0m                                                                                                                 \u001b[38;2;212;183;2m│\u001b[0m\n",
       "\u001b[38;2;212;183;2m│\u001b[0m \u001b[1mWhat is the capital of France?\u001b[0m                                                                                  \u001b[38;2;212;183;2m│\u001b[0m\n",
       "\u001b[38;2;212;183;2m│\u001b[0m                                                                                                                 \u001b[38;2;212;183;2m│\u001b[0m\n",
       "\u001b[38;2;212;183;2m╰─\u001b[0m\u001b[38;2;212;183;2m LiteLLMModel - openai/qwen2.5-7b-instruct-1m \u001b[0m\u001b[38;2;212;183;2m─────────────────────────────────────────────────────────────────\u001b[0m\u001b[38;2;212;183;2m─╯\u001b[0m\n"
      ]
     },
     "metadata": {},
     "output_type": "display_data"
    },
    {
     "data": {
      "text/html": [
       "<pre style=\"white-space:pre;overflow-x:auto;line-height:normal;font-family:Menlo,'DejaVu Sans Mono',consolas,'Courier New',monospace\"><span style=\"color: #d4b702; text-decoration-color: #d4b702\">━━━━━━━━━━━━━━━━━━━━━━━━━━━━━━━━━━━━━━━━━━━━━━━━━━━━━ </span><span style=\"font-weight: bold\">Step </span><span style=\"color: #008080; text-decoration-color: #008080; font-weight: bold\">1</span><span style=\"color: #d4b702; text-decoration-color: #d4b702\"> ━━━━━━━━━━━━━━━━━━━━━━━━━━━━━━━━━━━━━━━━━━━━━━━━━━━━━━</span>\n",
       "</pre>\n"
      ],
      "text/plain": [
       "\u001b[38;2;212;183;2m━━━━━━━━━━━━━━━━━━━━━━━━━━━━━━━━━━━━━━━━━━━━━━━━━━━━━ \u001b[0m\u001b[1mStep \u001b[0m\u001b[1;36m1\u001b[0m\u001b[38;2;212;183;2m ━━━━━━━━━━━━━━━━━━━━━━━━━━━━━━━━━━━━━━━━━━━━━━━━━━━━━━\u001b[0m\n"
      ]
     },
     "metadata": {},
     "output_type": "display_data"
    },
    {
     "data": {
      "text/html": [
       "<pre style=\"white-space:pre;overflow-x:auto;line-height:normal;font-family:Menlo,'DejaVu Sans Mono',consolas,'Courier New',monospace\"> ─ <span style=\"font-weight: bold\">Executing parsed code:</span> ──────────────────────────────────────────────────────────────────────────────────────── \n",
       "  <span style=\"color: #f8f8f2; text-decoration-color: #f8f8f2; background-color: #272822\">capital </span><span style=\"color: #ff4689; text-decoration-color: #ff4689; background-color: #272822\">=</span><span style=\"color: #f8f8f2; text-decoration-color: #f8f8f2; background-color: #272822\"> web_search(query</span><span style=\"color: #ff4689; text-decoration-color: #ff4689; background-color: #272822\">=</span><span style=\"color: #e6db74; text-decoration-color: #e6db74; background-color: #272822\">\"Capital of France\"</span><span style=\"color: #f8f8f2; text-decoration-color: #f8f8f2; background-color: #272822\">)</span><span style=\"background-color: #272822\">                                                                </span>  \n",
       "  <span style=\"color: #f8f8f2; text-decoration-color: #f8f8f2; background-color: #272822\">print(capital)</span><span style=\"background-color: #272822\">                                                                                                 </span>  \n",
       " ───────────────────────────────────────────────────────────────────────────────────────────────────────────────── \n",
       "</pre>\n"
      ],
      "text/plain": [
       " ─ \u001b[1mExecuting parsed code:\u001b[0m ──────────────────────────────────────────────────────────────────────────────────────── \n",
       "  \u001b[38;2;248;248;242;48;2;39;40;34mcapital\u001b[0m\u001b[38;2;248;248;242;48;2;39;40;34m \u001b[0m\u001b[38;2;255;70;137;48;2;39;40;34m=\u001b[0m\u001b[38;2;248;248;242;48;2;39;40;34m \u001b[0m\u001b[38;2;248;248;242;48;2;39;40;34mweb_search\u001b[0m\u001b[38;2;248;248;242;48;2;39;40;34m(\u001b[0m\u001b[38;2;248;248;242;48;2;39;40;34mquery\u001b[0m\u001b[38;2;255;70;137;48;2;39;40;34m=\u001b[0m\u001b[38;2;230;219;116;48;2;39;40;34m\"\u001b[0m\u001b[38;2;230;219;116;48;2;39;40;34mCapital of France\u001b[0m\u001b[38;2;230;219;116;48;2;39;40;34m\"\u001b[0m\u001b[38;2;248;248;242;48;2;39;40;34m)\u001b[0m\u001b[48;2;39;40;34m                                                                \u001b[0m  \n",
       "  \u001b[38;2;248;248;242;48;2;39;40;34mprint\u001b[0m\u001b[38;2;248;248;242;48;2;39;40;34m(\u001b[0m\u001b[38;2;248;248;242;48;2;39;40;34mcapital\u001b[0m\u001b[38;2;248;248;242;48;2;39;40;34m)\u001b[0m\u001b[48;2;39;40;34m                                                                                                 \u001b[0m  \n",
       " ───────────────────────────────────────────────────────────────────────────────────────────────────────────────── \n"
      ]
     },
     "metadata": {},
     "output_type": "display_data"
    },
    {
     "data": {
      "text/html": [
       "<pre style=\"white-space:pre;overflow-x:auto;line-height:normal;font-family:Menlo,'DejaVu Sans Mono',consolas,'Courier New',monospace\"><span style=\"font-weight: bold\">Execution logs:</span>\n",
       "## Search Results\n",
       "\n",
       "[Paris - Wikipedia](https://en.wikipedia.org/wiki/Paris)\n",
       "Paris is a global centre of finance, diplomacy, culture, and gastronomy, with an estimated population of 2 million \n",
       "residents in 2025. It has many famous landmarks, museums, and historical districts, and hosts several international\n",
       "organizations and sports events.\n",
       "\n",
       "[Paris | Definition, Map, Population, Facts, &amp; History | Britannica](https://www.britannica.com/place/Paris)\n",
       "Paris, city and capital of France, located along the Seine River, in the north-central part of the country. Paris \n",
       "is one of the world's most important and attractive cities, famed for its gastronomy, haute couture, painting, \n",
       "literature, and intellectual community. Learn more about Paris in this article.\n",
       "\n",
       "[What is the Capital of France? - \n",
       "WorldAtlas](https://www.worldatlas.com/articles/what-is-the-capital-of-france.html)\n",
       "Learn about the history, geography, economy, tourism, and administration of Paris, the capital city of France and \n",
       "the country's largest city. Find out why Paris is called the City of Light and the City of Love.\n",
       "\n",
       "[Paris - Simple English Wikipedia, the free encyclopedia](https://simple.wikipedia.org/wiki/Paris)\n",
       "Paris is the capital city and the largest city of France, with a population of about 2.15 million. It has a rich \n",
       "history, many art museums, historical buildings, and a famous landmark, the Eiffel Tower.\n",
       "\n",
       "[France | History, Maps, Flag, Population, Cities, Capital, &amp; Facts ...](https://www.britannica.com/place/France)\n",
       "France, a country of northwestern Europe, is historically and culturally among the most important countries in the \n",
       "Western world. It has also played a highly significant role in international affairs for centuries. Its capital is \n",
       "Paris, one of the most important cultural and commercial centers in the world.\n",
       "\n",
       "[Paris: Facts &amp; Related Content - Encyclopedia Britannica](https://www.britannica.com/facts/Paris)\n",
       "Paris, the capital of France, is located in the north-central portion of the country. It constitutes one of the \n",
       "départements of the Île-de-France administrative region and is France's most important centre of commerce and \n",
       "culture. The city is home to the Eiffel Tower, one of the world's premier tourist attractions, which opened to the \n",
       "public on May 15, 1889.\n",
       "\n",
       "[Capital of France - Simple English Wikipedia, the free \n",
       "encyclopedia](https://simple.wikipedia.org/wiki/Capital_of_France)\n",
       "Learn about the history and current status of the capital of France, Paris. Find out which other cities have been \n",
       "the national capital in different periods of time.\n",
       "\n",
       "[Paris, France - New World Encyclopedia](https://www.newworldencyclopedia.org/entry/Paris,_France)\n",
       "Learn about the history, culture, and attractions of Paris, the capital city of France and one of the world's \n",
       "leading global cities. Find out how Paris got its name, its role in the French Revolution, and its famous landmarks\n",
       "such as the Eiffel Tower and the Louvre.\n",
       "\n",
       "[What is the Capital of France? - Mappr](https://www.mappr.co/capital-cities/france/)\n",
       "Learn about Paris, the capital of France, and its rich history, culture, and geography. Discover its landmarks, \n",
       "climate, population, and role as a global city.\n",
       "\n",
       "[Paris, Capital city of France - The World Countries](https://theworldcountries.com/geo/capital-city/Paris)\n",
       "Paris (French pronunciation: [paʁi] ) is the capital and largest city of France. With an estimated population of \n",
       "2,048,472 residents in January 2025 in an area of more than 105 km2 (41 sq mi), Paris is the fourth-most populous \n",
       "city in the European Union and the 30th most densely populated city in the world in 2022.\n",
       "\n",
       "Out: None\n",
       "</pre>\n"
      ],
      "text/plain": [
       "\u001b[1mExecution logs:\u001b[0m\n",
       "## Search Results\n",
       "\n",
       "[Paris - Wikipedia](https://en.wikipedia.org/wiki/Paris)\n",
       "Paris is a global centre of finance, diplomacy, culture, and gastronomy, with an estimated population of 2 million \n",
       "residents in 2025. It has many famous landmarks, museums, and historical districts, and hosts several international\n",
       "organizations and sports events.\n",
       "\n",
       "[Paris | Definition, Map, Population, Facts, & History | Britannica](https://www.britannica.com/place/Paris)\n",
       "Paris, city and capital of France, located along the Seine River, in the north-central part of the country. Paris \n",
       "is one of the world's most important and attractive cities, famed for its gastronomy, haute couture, painting, \n",
       "literature, and intellectual community. Learn more about Paris in this article.\n",
       "\n",
       "[What is the Capital of France? - \n",
       "WorldAtlas](https://www.worldatlas.com/articles/what-is-the-capital-of-france.html)\n",
       "Learn about the history, geography, economy, tourism, and administration of Paris, the capital city of France and \n",
       "the country's largest city. Find out why Paris is called the City of Light and the City of Love.\n",
       "\n",
       "[Paris - Simple English Wikipedia, the free encyclopedia](https://simple.wikipedia.org/wiki/Paris)\n",
       "Paris is the capital city and the largest city of France, with a population of about 2.15 million. It has a rich \n",
       "history, many art museums, historical buildings, and a famous landmark, the Eiffel Tower.\n",
       "\n",
       "[France | History, Maps, Flag, Population, Cities, Capital, & Facts ...](https://www.britannica.com/place/France)\n",
       "France, a country of northwestern Europe, is historically and culturally among the most important countries in the \n",
       "Western world. It has also played a highly significant role in international affairs for centuries. Its capital is \n",
       "Paris, one of the most important cultural and commercial centers in the world.\n",
       "\n",
       "[Paris: Facts & Related Content - Encyclopedia Britannica](https://www.britannica.com/facts/Paris)\n",
       "Paris, the capital of France, is located in the north-central portion of the country. It constitutes one of the \n",
       "départements of the Île-de-France administrative region and is France's most important centre of commerce and \n",
       "culture. The city is home to the Eiffel Tower, one of the world's premier tourist attractions, which opened to the \n",
       "public on May 15, 1889.\n",
       "\n",
       "[Capital of France - Simple English Wikipedia, the free \n",
       "encyclopedia](https://simple.wikipedia.org/wiki/Capital_of_France)\n",
       "Learn about the history and current status of the capital of France, Paris. Find out which other cities have been \n",
       "the national capital in different periods of time.\n",
       "\n",
       "[Paris, France - New World Encyclopedia](https://www.newworldencyclopedia.org/entry/Paris,_France)\n",
       "Learn about the history, culture, and attractions of Paris, the capital city of France and one of the world's \n",
       "leading global cities. Find out how Paris got its name, its role in the French Revolution, and its famous landmarks\n",
       "such as the Eiffel Tower and the Louvre.\n",
       "\n",
       "[What is the Capital of France? - Mappr](https://www.mappr.co/capital-cities/france/)\n",
       "Learn about Paris, the capital of France, and its rich history, culture, and geography. Discover its landmarks, \n",
       "climate, population, and role as a global city.\n",
       "\n",
       "[Paris, Capital city of France - The World Countries](https://theworldcountries.com/geo/capital-city/Paris)\n",
       "Paris (French pronunciation: [paʁi] ) is the capital and largest city of France. With an estimated population of \n",
       "2,048,472 residents in January 2025 in an area of more than 105 km2 (41 sq mi), Paris is the fourth-most populous \n",
       "city in the European Union and the 30th most densely populated city in the world in 2022.\n",
       "\n",
       "Out: None\n"
      ]
     },
     "metadata": {},
     "output_type": "display_data"
    },
    {
     "data": {
      "text/html": [
       "<pre style=\"white-space:pre;overflow-x:auto;line-height:normal;font-family:Menlo,'DejaVu Sans Mono',consolas,'Courier New',monospace\"><span style=\"color: #7f7f7f; text-decoration-color: #7f7f7f\">[Step 1: Duration 38.21 seconds| Input tokens: 2,044 | Output tokens: 43]</span>\n",
       "</pre>\n"
      ],
      "text/plain": [
       "\u001b[2m[Step 1: Duration 38.21 seconds| Input tokens: 2,044 | Output tokens: 43]\u001b[0m\n"
      ]
     },
     "metadata": {},
     "output_type": "display_data"
    },
    {
     "data": {
      "text/html": [
       "<pre style=\"white-space:pre;overflow-x:auto;line-height:normal;font-family:Menlo,'DejaVu Sans Mono',consolas,'Courier New',monospace\"><span style=\"color: #d4b702; text-decoration-color: #d4b702\">━━━━━━━━━━━━━━━━━━━━━━━━━━━━━━━━━━━━━━━━━━━━━━━━━━━━━ </span><span style=\"font-weight: bold\">Step </span><span style=\"color: #008080; text-decoration-color: #008080; font-weight: bold\">2</span><span style=\"color: #d4b702; text-decoration-color: #d4b702\"> ━━━━━━━━━━━━━━━━━━━━━━━━━━━━━━━━━━━━━━━━━━━━━━━━━━━━━━</span>\n",
       "</pre>\n"
      ],
      "text/plain": [
       "\u001b[38;2;212;183;2m━━━━━━━━━━━━━━━━━━━━━━━━━━━━━━━━━━━━━━━━━━━━━━━━━━━━━ \u001b[0m\u001b[1mStep \u001b[0m\u001b[1;36m2\u001b[0m\u001b[38;2;212;183;2m ━━━━━━━━━━━━━━━━━━━━━━━━━━━━━━━━━━━━━━━━━━━━━━━━━━━━━━\u001b[0m\n"
      ]
     },
     "metadata": {},
     "output_type": "display_data"
    },
    {
     "data": {
      "text/html": [
       "<pre style=\"white-space:pre;overflow-x:auto;line-height:normal;font-family:Menlo,'DejaVu Sans Mono',consolas,'Courier New',monospace\"> ─ <span style=\"font-weight: bold\">Executing parsed code:</span> ──────────────────────────────────────────────────────────────────────────────────────── \n",
       "  <span style=\"color: #f8f8f2; text-decoration-color: #f8f8f2; background-color: #272822\">final_answer(</span><span style=\"color: #e6db74; text-decoration-color: #e6db74; background-color: #272822\">\"Paris\"</span><span style=\"color: #f8f8f2; text-decoration-color: #f8f8f2; background-color: #272822\">)</span><span style=\"background-color: #272822\">                                                                                          </span>  \n",
       " ───────────────────────────────────────────────────────────────────────────────────────────────────────────────── \n",
       "</pre>\n"
      ],
      "text/plain": [
       " ─ \u001b[1mExecuting parsed code:\u001b[0m ──────────────────────────────────────────────────────────────────────────────────────── \n",
       "  \u001b[38;2;248;248;242;48;2;39;40;34mfinal_answer\u001b[0m\u001b[38;2;248;248;242;48;2;39;40;34m(\u001b[0m\u001b[38;2;230;219;116;48;2;39;40;34m\"\u001b[0m\u001b[38;2;230;219;116;48;2;39;40;34mParis\u001b[0m\u001b[38;2;230;219;116;48;2;39;40;34m\"\u001b[0m\u001b[38;2;248;248;242;48;2;39;40;34m)\u001b[0m\u001b[48;2;39;40;34m                                                                                          \u001b[0m  \n",
       " ───────────────────────────────────────────────────────────────────────────────────────────────────────────────── \n"
      ]
     },
     "metadata": {},
     "output_type": "display_data"
    },
    {
     "data": {
      "text/html": [
       "<pre style=\"white-space:pre;overflow-x:auto;line-height:normal;font-family:Menlo,'DejaVu Sans Mono',consolas,'Courier New',monospace\"><span style=\"color: #d4b702; text-decoration-color: #d4b702; font-weight: bold\">Out - Final answer: Paris</span>\n",
       "</pre>\n"
      ],
      "text/plain": [
       "\u001b[1;38;2;212;183;2mOut - Final answer: Paris\u001b[0m\n"
      ]
     },
     "metadata": {},
     "output_type": "display_data"
    },
    {
     "data": {
      "text/html": [
       "<pre style=\"white-space:pre;overflow-x:auto;line-height:normal;font-family:Menlo,'DejaVu Sans Mono',consolas,'Courier New',monospace\"><span style=\"color: #7f7f7f; text-decoration-color: #7f7f7f\">[Step 2: Duration 48.81 seconds| Input tokens: 5,027 | Output tokens: 84]</span>\n",
       "</pre>\n"
      ],
      "text/plain": [
       "\u001b[2m[Step 2: Duration 48.81 seconds| Input tokens: 5,027 | Output tokens: 84]\u001b[0m\n"
      ]
     },
     "metadata": {},
     "output_type": "display_data"
    },
    {
     "name": "stdout",
     "output_type": "stream",
     "text": [
      "Paris\n"
     ]
    }
   ],
   "source": [
    "# Initialize the agent (no tools for now)\n",
    "agent = CodeAgent(\n",
    "    tools=[DuckDuckGoSearchTool()], \n",
    "    model=model,\n",
    ")\n",
    "\n",
    "# Run the agent with a prompt\n",
    "response = agent.run(\"What is the capital of France?\")\n",
    "print(response)\n"
   ]
  },
  {
   "cell_type": "markdown",
   "id": "633b83f1",
   "metadata": {},
   "source": []
  },
  {
   "cell_type": "code",
   "execution_count": null,
   "id": "547006b4",
   "metadata": {},
   "outputs": [],
   "source": []
  }
 ],
 "metadata": {
  "kernelspec": {
   "display_name": "agents-env",
   "language": "python",
   "name": "python3"
  },
  "language_info": {
   "codemirror_mode": {
    "name": "ipython",
    "version": 3
   },
   "file_extension": ".py",
   "mimetype": "text/x-python",
   "name": "python",
   "nbconvert_exporter": "python",
   "pygments_lexer": "ipython3",
   "version": "3.13.3"
  }
 },
 "nbformat": 4,
 "nbformat_minor": 5
}
