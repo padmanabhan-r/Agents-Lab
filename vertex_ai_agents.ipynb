{
 "cells": [
  {
   "cell_type": "code",
   "execution_count": null,
   "id": "0d7d1076",
   "metadata": {},
   "outputs": [
    {
     "ename": "ValueError",
     "evalue": "Unknown model publishers/google/models/gemini-1.5-flash; {'gs://google-cloud-aiplatform/schema/predict/instance/chat_generation_1.0.0.yaml': <class 'vertexai.preview.language_models._PreviewChatModel'>}",
     "output_type": "error",
     "traceback": [
      "\u001b[31m---------------------------------------------------------------------------\u001b[39m",
      "\u001b[31mValueError\u001b[39m                                Traceback (most recent call last)",
      "\u001b[36mCell\u001b[39m\u001b[36m \u001b[39m\u001b[32mIn[1]\u001b[39m\u001b[32m, line 3\u001b[39m\n\u001b[32m      1\u001b[39m \u001b[38;5;28;01mfrom\u001b[39;00m\u001b[38;5;250m \u001b[39m\u001b[34;01mvertexai\u001b[39;00m\u001b[34;01m.\u001b[39;00m\u001b[34;01mpreview\u001b[39;00m\u001b[34;01m.\u001b[39;00m\u001b[34;01mlanguage_models\u001b[39;00m\u001b[38;5;250m \u001b[39m\u001b[38;5;28;01mimport\u001b[39;00m ChatModel\n\u001b[32m----> \u001b[39m\u001b[32m3\u001b[39m chat_model = \u001b[43mChatModel\u001b[49m\u001b[43m.\u001b[49m\u001b[43mfrom_pretrained\u001b[49m\u001b[43m(\u001b[49m\u001b[33;43m\"\u001b[39;49m\u001b[33;43mgemini-1.5-flash\u001b[39;49m\u001b[33;43m\"\u001b[39;49m\u001b[43m)\u001b[49m\n",
      "\u001b[36mFile \u001b[39m\u001b[32m~/Documents/Github/agents-exp/.venv/lib/python3.13/site-packages/vertexai/_model_garden/_model_garden_models.py:289\u001b[39m, in \u001b[36m_ModelGardenModel.from_pretrained\u001b[39m\u001b[34m(cls, model_name)\u001b[39m\n\u001b[32m    278\u001b[39m credential_exception_str = (\n\u001b[32m    279\u001b[39m     \u001b[33m\"\u001b[39m\u001b[38;5;130;01m\\n\u001b[39;00m\u001b[33mUnable to authenticate your request.\u001b[39m\u001b[33m\"\u001b[39m\n\u001b[32m    280\u001b[39m     \u001b[33m\"\u001b[39m\u001b[38;5;130;01m\\n\u001b[39;00m\u001b[33mDepending on your runtime environment, you can complete authentication by:\u001b[39m\u001b[33m\"\u001b[39m\n\u001b[32m   (...)\u001b[39m\u001b[32m    285\u001b[39m     \u001b[33m\"\u001b[39m\u001b[38;5;130;01m\\n\u001b[39;00m\u001b[33m- if in service account or other: please follow guidance in https://cloud.google.com/docs/authentication\u001b[39m\u001b[33m\"\u001b[39m\n\u001b[32m    286\u001b[39m )\n\u001b[32m    288\u001b[39m \u001b[38;5;28;01mtry\u001b[39;00m:\n\u001b[32m--> \u001b[39m\u001b[32m289\u001b[39m     \u001b[38;5;28;01mreturn\u001b[39;00m \u001b[43m_from_pretrained\u001b[49m\u001b[43m(\u001b[49m\u001b[43minterface_class\u001b[49m\u001b[43m=\u001b[49m\u001b[38;5;28;43mcls\u001b[39;49m\u001b[43m,\u001b[49m\u001b[43m \u001b[49m\u001b[43mmodel_name\u001b[49m\u001b[43m=\u001b[49m\u001b[43mmodel_name\u001b[49m\u001b[43m)\u001b[49m\n\u001b[32m    290\u001b[39m \u001b[38;5;28;01mexcept\u001b[39;00m auth_exceptions.GoogleAuthError \u001b[38;5;28;01mas\u001b[39;00m e:\n\u001b[32m    291\u001b[39m     \u001b[38;5;28;01mraise\u001b[39;00m auth_exceptions.GoogleAuthError(credential_exception_str) \u001b[38;5;28;01mfrom\u001b[39;00m\u001b[38;5;250m \u001b[39m\u001b[34;01me\u001b[39;00m\n",
      "\u001b[36mFile \u001b[39m\u001b[32m~/Documents/Github/agents-exp/.venv/lib/python3.13/site-packages/vertexai/_model_garden/_model_garden_models.py:206\u001b[39m, in \u001b[36m_from_pretrained\u001b[39m\u001b[34m(interface_class, model_name, publisher_model, tuned_vertex_model)\u001b[39m\n\u001b[32m    201\u001b[39m     \u001b[38;5;28;01mif\u001b[39;00m \u001b[38;5;129;01mnot\u001b[39;00m interface_class._INSTANCE_SCHEMA_URI:\n\u001b[32m    202\u001b[39m         \u001b[38;5;28;01mraise\u001b[39;00m \u001b[38;5;167;01mValueError\u001b[39;00m(\n\u001b[32m    203\u001b[39m             \u001b[33mf\u001b[39m\u001b[33m\"\u001b[39m\u001b[33mClass \u001b[39m\u001b[38;5;132;01m{\u001b[39;00minterface_class\u001b[38;5;132;01m}\u001b[39;00m\u001b[33m is not a correct model interface class since it does not have an instance schema URI.\u001b[39m\u001b[33m\"\u001b[39m\n\u001b[32m    204\u001b[39m         )\n\u001b[32m--> \u001b[39m\u001b[32m206\u001b[39m     model_info = \u001b[43m_get_model_info\u001b[49m\u001b[43m(\u001b[49m\n\u001b[32m    207\u001b[39m \u001b[43m        \u001b[49m\u001b[43mmodel_id\u001b[49m\u001b[43m=\u001b[49m\u001b[43mmodel_name\u001b[49m\u001b[43m,\u001b[49m\n\u001b[32m    208\u001b[39m \u001b[43m        \u001b[49m\u001b[43mschema_to_class_map\u001b[49m\u001b[43m=\u001b[49m\u001b[43m{\u001b[49m\u001b[43minterface_class\u001b[49m\u001b[43m.\u001b[49m\u001b[43m_INSTANCE_SCHEMA_URI\u001b[49m\u001b[43m:\u001b[49m\u001b[43m \u001b[49m\u001b[43minterface_class\u001b[49m\u001b[43m}\u001b[49m\u001b[43m,\u001b[49m\n\u001b[32m    209\u001b[39m \u001b[43m    \u001b[49m\u001b[43m)\u001b[49m\n\u001b[32m    211\u001b[39m \u001b[38;5;28;01melse\u001b[39;00m:\n\u001b[32m    212\u001b[39m     schema_uri = publisher_model._gca_resource.predict_schemata.instance_schema_uri\n",
      "\u001b[36mFile \u001b[39m\u001b[32m~/Documents/Github/agents-exp/.venv/lib/python3.13/site-packages/vertexai/_model_garden/_model_garden_models.py:168\u001b[39m, in \u001b[36m_get_model_info\u001b[39m\u001b[34m(model_id, schema_to_class_map, interface_class, publisher_model_res, tuned_vertex_model)\u001b[39m\n\u001b[32m    163\u001b[39m     interface_class = schema_to_class_map.get(\n\u001b[32m    164\u001b[39m         publisher_model_res.predict_schemata.instance_schema_uri\n\u001b[32m    165\u001b[39m     )\n\u001b[32m    167\u001b[39m     \u001b[38;5;28;01mif\u001b[39;00m \u001b[38;5;129;01mnot\u001b[39;00m interface_class:\n\u001b[32m--> \u001b[39m\u001b[32m168\u001b[39m         \u001b[38;5;28;01mraise\u001b[39;00m \u001b[38;5;167;01mValueError\u001b[39;00m(\n\u001b[32m    169\u001b[39m             \u001b[33mf\u001b[39m\u001b[33m\"\u001b[39m\u001b[33mUnknown model \u001b[39m\u001b[38;5;132;01m{\u001b[39;00mpublisher_model_res.name\u001b[38;5;132;01m}\u001b[39;00m\u001b[33m; \u001b[39m\u001b[38;5;132;01m{\u001b[39;00mschema_to_class_map\u001b[38;5;132;01m}\u001b[39;00m\u001b[33m\"\u001b[39m\n\u001b[32m    170\u001b[39m         )\n\u001b[32m    172\u001b[39m \u001b[38;5;28;01mreturn\u001b[39;00m _ModelInfo(\n\u001b[32m    173\u001b[39m     endpoint_name=endpoint_name,\n\u001b[32m    174\u001b[39m     interface_class=interface_class,\n\u001b[32m   (...)\u001b[39m\u001b[32m    177\u001b[39m     tuning_model_id=tuning_model_id,\n\u001b[32m    178\u001b[39m )\n",
      "\u001b[31mValueError\u001b[39m: Unknown model publishers/google/models/gemini-1.5-flash; {'gs://google-cloud-aiplatform/schema/predict/instance/chat_generation_1.0.0.yaml': <class 'vertexai.preview.language_models._PreviewChatModel'>}"
     ]
    }
   ],
   "source": [
    "import os\n",
    "import vertexai\n",
    "import threading\n",
    "import time\n",
    "\n",
    "from IPython.display import display, Image\n",
    "import google.auth\n",
    "import google.auth.transport.requests\n",
    "import openai\n",
    "from smolagents import ChatMessage, CodeAgent, Model, DuckDuckGoSearchTool\n",
    "from smolagents.agents import ActionStep\n",
    "from smolagents.tools import Tool, tool\n",
    "\n",
    "os.environ[\"GOOGLE_APPLICATION_CREDENTIALS\"] = \"your_service_account_key.json\"\n",
    "\n",
    "PROJECT_ID = \"your_project_id\"\n",
    "LOCATION = os.environ.get(\"GOOGLE_CLOUD_REGION\", \"us-central1\")\n",
    "\n",
    "vertexai.init(project=PROJECT_ID, location=LOCATION)"
   ]
  },
  {
   "cell_type": "code",
   "execution_count": null,
   "id": "74b780cb",
   "metadata": {},
   "outputs": [],
   "source": []
  }
 ],
 "metadata": {
  "kernelspec": {
   "display_name": ".venv",
   "language": "python",
   "name": "python3"
  },
  "language_info": {
   "codemirror_mode": {
    "name": "ipython",
    "version": 3
   },
   "file_extension": ".py",
   "mimetype": "text/x-python",
   "name": "python",
   "nbconvert_exporter": "python",
   "pygments_lexer": "ipython3",
   "version": "3.13.3"
  }
 },
 "nbformat": 4,
 "nbformat_minor": 5
}
